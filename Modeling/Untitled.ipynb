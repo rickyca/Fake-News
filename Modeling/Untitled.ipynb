{
 "cells": [
  {
   "cell_type": "code",
   "execution_count": 1,
   "metadata": {
    "collapsed": true
   },
   "outputs": [],
   "source": [
    "import pandas as pd"
   ]
  },
  {
   "cell_type": "code",
   "execution_count": 10,
   "metadata": {
    "collapsed": false
   },
   "outputs": [
    {
     "data": {
      "text/html": [
       "<div>\n",
       "<style>\n",
       "    .dataframe thead tr:only-child th {\n",
       "        text-align: right;\n",
       "    }\n",
       "\n",
       "    .dataframe thead th {\n",
       "        text-align: left;\n",
       "    }\n",
       "\n",
       "    .dataframe tbody tr th {\n",
       "        vertical-align: top;\n",
       "    }\n",
       "</style>\n",
       "<table border=\"1\" class=\"dataframe\">\n",
       "  <thead>\n",
       "    <tr style=\"text-align: right;\">\n",
       "      <th></th>\n",
       "      <th>baseline</th>\n",
       "      <th>score</th>\n",
       "      <th>steps</th>\n",
       "      <th>details</th>\n",
       "      <th>predicted_fake__fake</th>\n",
       "      <th>predicted_real__fake</th>\n",
       "      <th>predicted_fake__real</th>\n",
       "      <th>predicted_real__real</th>\n",
       "    </tr>\n",
       "  </thead>\n",
       "  <tbody>\n",
       "    <tr>\n",
       "      <th>12</th>\n",
       "      <td>0.833155</td>\n",
       "      <td>0.909626</td>\n",
       "      <td>countvectorizer -&gt; randomforestclassifier</td>\n",
       "      <td>countvectorizer -&gt; binary=False lowercase=True...</td>\n",
       "      <td>2992</td>\n",
       "      <td>124</td>\n",
       "      <td>214</td>\n",
       "      <td>410</td>\n",
       "    </tr>\n",
       "    <tr>\n",
       "      <th>13</th>\n",
       "      <td>0.829947</td>\n",
       "      <td>0.868182</td>\n",
       "      <td>countvectorizer -&gt; adaboostclassifier</td>\n",
       "      <td>countvectorizer -&gt; binary=False lowercase=True...</td>\n",
       "      <td>2709</td>\n",
       "      <td>395</td>\n",
       "      <td>98</td>\n",
       "      <td>538</td>\n",
       "    </tr>\n",
       "    <tr>\n",
       "      <th>14</th>\n",
       "      <td>0.827540</td>\n",
       "      <td>0.903476</td>\n",
       "      <td>countvectorizer -&gt; adaboostclassifier</td>\n",
       "      <td>countvectorizer -&gt; binary=False lowercase=True...</td>\n",
       "      <td>2870</td>\n",
       "      <td>225</td>\n",
       "      <td>136</td>\n",
       "      <td>509</td>\n",
       "    </tr>\n",
       "    <tr>\n",
       "      <th>15</th>\n",
       "      <td>0.832086</td>\n",
       "      <td>0.918984</td>\n",
       "      <td>countvectorizer -&gt; adaboostclassifier</td>\n",
       "      <td>countvectorizer -&gt; binary=False lowercase=True...</td>\n",
       "      <td>2939</td>\n",
       "      <td>173</td>\n",
       "      <td>130</td>\n",
       "      <td>498</td>\n",
       "    </tr>\n",
       "    <tr>\n",
       "      <th>16</th>\n",
       "      <td>0.831283</td>\n",
       "      <td>0.919519</td>\n",
       "      <td>countvectorizer -&gt; baggingclassifier</td>\n",
       "      <td>countvectorizer -&gt; binary=False lowercase=True...</td>\n",
       "      <td>2948</td>\n",
       "      <td>161</td>\n",
       "      <td>140</td>\n",
       "      <td>491</td>\n",
       "    </tr>\n",
       "  </tbody>\n",
       "</table>\n",
       "</div>"
      ],
      "text/plain": [
       "    baseline     score                                      steps  \\\n",
       "12  0.833155  0.909626  countvectorizer -> randomforestclassifier   \n",
       "13  0.829947  0.868182      countvectorizer -> adaboostclassifier   \n",
       "14  0.827540  0.903476      countvectorizer -> adaboostclassifier   \n",
       "15  0.832086  0.918984      countvectorizer -> adaboostclassifier   \n",
       "16  0.831283  0.919519       countvectorizer -> baggingclassifier   \n",
       "\n",
       "                                              details  predicted_fake__fake  \\\n",
       "12  countvectorizer -> binary=False lowercase=True...                  2992   \n",
       "13  countvectorizer -> binary=False lowercase=True...                  2709   \n",
       "14  countvectorizer -> binary=False lowercase=True...                  2870   \n",
       "15  countvectorizer -> binary=False lowercase=True...                  2939   \n",
       "16  countvectorizer -> binary=False lowercase=True...                  2948   \n",
       "\n",
       "    predicted_real__fake  predicted_fake__real  predicted_real__real  \n",
       "12                   124                   214                   410  \n",
       "13                   395                    98                   538  \n",
       "14                   225                   136                   509  \n",
       "15                   173                   130                   498  \n",
       "16                   161                   140                   491  "
      ]
     },
     "execution_count": 10,
     "metadata": {},
     "output_type": "execute_result"
    }
   ],
   "source": [
    "df = pd.read_csv('log.csv')\n",
    "df.tail()"
   ]
  },
  {
   "cell_type": "code",
   "execution_count": 6,
   "metadata": {
    "collapsed": false
   },
   "outputs": [],
   "source": [
    "import numpy as np"
   ]
  },
  {
   "cell_type": "code",
   "execution_count": null,
   "metadata": {
    "collapsed": true
   },
   "outputs": [],
   "source": [
    "np.arange()"
   ]
  }
 ],
 "metadata": {
  "kernelspec": {
   "display_name": "Python 2",
   "language": "python",
   "name": "python2"
  },
  "language_info": {
   "codemirror_mode": {
    "name": "ipython",
    "version": 2
   },
   "file_extension": ".py",
   "mimetype": "text/x-python",
   "name": "python",
   "nbconvert_exporter": "python",
   "pygments_lexer": "ipython2",
   "version": "2.7.13"
  }
 },
 "nbformat": 4,
 "nbformat_minor": 2
}
