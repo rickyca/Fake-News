{
 "cells": [
  {
   "cell_type": "code",
   "execution_count": 1,
   "metadata": {
    "collapsed": false
   },
   "outputs": [],
   "source": [
    "import pandas as pd"
   ]
  },
  {
   "cell_type": "code",
   "execution_count": 2,
   "metadata": {
    "collapsed": true
   },
   "outputs": [],
   "source": [
    "df = pd.read_csv('log_full.csv')"
   ]
  },
  {
   "cell_type": "code",
   "execution_count": 5,
   "metadata": {
    "collapsed": false
   },
   "outputs": [
    {
     "name": "stdout",
     "output_type": "stream",
     "text": [
      "tfidfvectorizer -> binary=False lowercase=True stop_words=english decode_error=strict vocabulary=None tokenizer=None encoding=utf-8 dtype=<type 'numpy.int64'> smooth_idf=True analyzer=word use_idf=True ngram_range=(1, 1) max_df=1.0 min_df=1 max_features=None input=content sublinear_tf=False strip_accents=None token_pattern=(?u)\\b\\w\\w+\\b norm=l2 preprocessor=None\n",
      "logisticregression -> warm_start=False C=9 n_jobs=1 verbose=0 intercept_scaling=1 fit_intercept=True max_iter=1000 penalty=l2 multi_class=ovr random_state=None dual=False tol=0.0001 solver=liblinear class_weight=balanced\n",
      "\n"
     ]
    }
   ],
   "source": [
    "for i in df.sort_values(by='score', ascending=False).head(1)['details']:\n",
    "    print i"
   ]
  },
  {
   "cell_type": "code",
   "execution_count": 6,
   "metadata": {
    "collapsed": false
   },
   "outputs": [
    {
     "data": {
      "text/html": [
       "<div>\n",
       "<style>\n",
       "    .dataframe thead tr:only-child th {\n",
       "        text-align: right;\n",
       "    }\n",
       "\n",
       "    .dataframe thead th {\n",
       "        text-align: left;\n",
       "    }\n",
       "\n",
       "    .dataframe tbody tr th {\n",
       "        vertical-align: top;\n",
       "    }\n",
       "</style>\n",
       "<table border=\"1\" class=\"dataframe\">\n",
       "  <thead>\n",
       "    <tr style=\"text-align: right;\">\n",
       "      <th></th>\n",
       "      <th>baseline</th>\n",
       "      <th>score</th>\n",
       "      <th>steps</th>\n",
       "      <th>details</th>\n",
       "      <th>predicted_fake__fake</th>\n",
       "      <th>predicted_real__fake</th>\n",
       "      <th>predicted_fake__real</th>\n",
       "      <th>predicted_real__real</th>\n",
       "    </tr>\n",
       "  </thead>\n",
       "  <tbody>\n",
       "    <tr>\n",
       "      <th>5</th>\n",
       "      <td>0.743233</td>\n",
       "      <td>0.963572</td>\n",
       "      <td>tfidfvectorizer -&gt; logisticregression</td>\n",
       "      <td>tfidfvectorizer -&gt; binary=False lowercase=True...</td>\n",
       "      <td>2882</td>\n",
       "      <td>56</td>\n",
       "      <td>88</td>\n",
       "      <td>927</td>\n",
       "    </tr>\n",
       "  </tbody>\n",
       "</table>\n",
       "</div>"
      ],
      "text/plain": [
       "   baseline     score                                  steps  \\\n",
       "5  0.743233  0.963572  tfidfvectorizer -> logisticregression   \n",
       "\n",
       "                                             details  predicted_fake__fake  \\\n",
       "5  tfidfvectorizer -> binary=False lowercase=True...                  2882   \n",
       "\n",
       "   predicted_real__fake  predicted_fake__real  predicted_real__real  \n",
       "5                    56                    88                   927  "
      ]
     },
     "execution_count": 6,
     "metadata": {},
     "output_type": "execute_result"
    }
   ],
   "source": [
    "df.sort_values(by='score', ascending=False).head(1)"
   ]
  }
 ],
 "metadata": {
  "kernelspec": {
   "display_name": "Python 2",
   "language": "python",
   "name": "python2"
  },
  "language_info": {
   "codemirror_mode": {
    "name": "ipython",
    "version": 2
   },
   "file_extension": ".py",
   "mimetype": "text/x-python",
   "name": "python",
   "nbconvert_exporter": "python",
   "pygments_lexer": "ipython2",
   "version": "2.7.13"
  }
 },
 "nbformat": 4,
 "nbformat_minor": 2
}
