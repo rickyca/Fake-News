{
 "cells": [
  {
   "cell_type": "code",
   "execution_count": 1,
   "metadata": {
    "collapsed": false
   },
   "outputs": [
    {
     "name": "stdout",
     "output_type": "stream",
     "text": [
      "parsed_data.csv  parser.pyc    raw_data_reader.py   Untitled.ipynb\r\n",
      "parser.py        raw_data_3.p  raw_data_reader.pyc\r\n"
     ]
    }
   ],
   "source": [
    "% ls"
   ]
  },
  {
   "cell_type": "code",
   "execution_count": 2,
   "metadata": {
    "collapsed": true
   },
   "outputs": [],
   "source": [
    "import matplotlib.pyplot as plt\n",
    "import pandas as pd\n",
    "import seaborn as sns\n",
    "\n",
    "sns.set(font_scale=1)"
   ]
  },
  {
   "cell_type": "code",
   "execution_count": 6,
   "metadata": {
    "collapsed": true
   },
   "outputs": [],
   "source": [
    "df = pd.read_csv('parsed_data.csv')"
   ]
  },
  {
   "cell_type": "code",
   "execution_count": 10,
   "metadata": {
    "collapsed": false
   },
   "outputs": [
    {
     "data": {
      "text/plain": [
       "(2100, 20)"
      ]
     },
     "execution_count": 10,
     "metadata": {},
     "output_type": "execute_result"
    }
   ],
   "source": [
    "df.shape"
   ]
  },
  {
   "cell_type": "code",
   "execution_count": 11,
   "metadata": {
    "collapsed": false
   },
   "outputs": [
    {
     "data": {
      "text/plain": [
       "1      356\n",
       "2       40\n",
       "3       27\n",
       "4       13\n",
       "7        9\n",
       "5        6\n",
       "6        5\n",
       "23       4\n",
       "28       2\n",
       "24       2\n",
       "25       2\n",
       "8        2\n",
       "9        2\n",
       "15       2\n",
       "43       2\n",
       "60       2\n",
       "17       2\n",
       "11       1\n",
       "12       1\n",
       "13       1\n",
       "14       1\n",
       "184      1\n",
       "16       1\n",
       "18       1\n",
       "104      1\n",
       "26       1\n",
       "32       1\n",
       "34       1\n",
       "35       1\n",
       "44       1\n",
       "50       1\n",
       "54       1\n",
       "55       1\n",
       "57       1\n",
       "80       1\n",
       "19       1\n",
       "Name: title, dtype: int64"
      ]
     },
     "execution_count": 11,
     "metadata": {},
     "output_type": "execute_result"
    }
   ],
   "source": [
    "df.title.value_counts().sort_values(ascending=False).value_counts()"
   ]
  }
 ],
 "metadata": {
  "kernelspec": {
   "display_name": "Python 2",
   "language": "python",
   "name": "python2"
  },
  "language_info": {
   "codemirror_mode": {
    "name": "ipython",
    "version": 2
   },
   "file_extension": ".py",
   "mimetype": "text/x-python",
   "name": "python",
   "nbconvert_exporter": "python",
   "pygments_lexer": "ipython2",
   "version": "2.7.13"
  }
 },
 "nbformat": 4,
 "nbformat_minor": 2
}
